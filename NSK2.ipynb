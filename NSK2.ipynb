{
  "nbformat": 4,
  "nbformat_minor": 0,
  "metadata": {
    "colab": {
      "provenance": [],
      "collapsed_sections": []
    },
    "kernelspec": {
      "name": "python3",
      "display_name": "Python 3"
    },
    "language_info": {
      "name": "python"
    }
  },
  "cells": [
    {
      "cell_type": "code",
      "execution_count": null,
      "metadata": {
        "id": "-j0H8D6BvZKm"
      },
      "outputs": [],
      "source": [
        "!wget https://lodmedia.hb.bizmrg.com/case_files/852825/train_dataset_train.csv\n",
        "!wget https://lodmedia.hb.bizmrg.com/case_files/852825/test_dataset_test.csv"
      ]
    },
    {
      "cell_type": "code",
      "source": [
        "!pip install catboost"
      ],
      "metadata": {
        "id": "ufdGV1qA8YMn"
      },
      "execution_count": null,
      "outputs": []
    },
    {
      "cell_type": "code",
      "source": [
        "import time\n",
        "import os\n",
        "import shutil\n",
        "import pandas as pd\n",
        "import numpy as np\n",
        "import matplotlib.pyplot as plt\n",
        "import seaborn as sns\n",
        "from sklearn.cluster import dbscan,DBSCAN\n",
        "from sklearn.manifold import TSNE\n",
        "from sklearn.feature_extraction.text import TfidfTransformer, CountVectorizer, TfidfVectorizer\n",
        "from sklearn.linear_model import LinearRegression, LogisticRegression, SGDClassifier, SGDRegressor, RidgeClassifier, LogisticRegressionCV,Ridge,QuantileRegressor,PassiveAggressiveClassifier,PoissonRegressor\n",
        "from sklearn.ensemble import ExtraTreesRegressor,ExtraTreesClassifier,RandomForestClassifier,VotingClassifier,RandomForestRegressor,GradientBoostingClassifier,GradientBoostingRegressor,StackingRegressor,BaggingClassifier\n",
        "from sklearn.tree import DecisionTreeRegressor,DecisionTreeClassifier\n",
        "from sklearn.svm import LinearSVC,LinearSVR,SVR,NuSVR\n",
        "from sklearn.decomposition import TruncatedSVD,PCA,FactorAnalysis,IncrementalPCA,FastICA,KernelPCA,NMF\n",
        "from sklearn.preprocessing import RobustScaler,QuantileTransformer,PowerTransformer,PolynomialFeatures,KBinsDiscretizer,StandardScaler,OneHotEncoder,OrdinalEncoder,FunctionTransformer,MaxAbsScaler,MinMaxScaler\n",
        "from sklearn.model_selection import cross_val_score\n",
        "from sklearn.pipeline import Pipeline,FeatureUnion,TransformerMixin\n",
        "from sklearn.neighbors import KNeighborsClassifier,KNeighborsRegressor,LocalOutlierFactor\n",
        "from sklearn.model_selection import train_test_split,ShuffleSplit,StratifiedShuffleSplit,TimeSeriesSplit,GridSearchCV,KFold\n",
        "from sklearn.feature_selection import SelectFromModel\n",
        "from sklearn.compose import ColumnTransformer\n",
        "from sklearn.impute import KNNImputer,SimpleImputer\n",
        "from sklearn.dummy import DummyRegressor,DummyClassifier\n",
        "from sklearn import set_config\n",
        "from sklearn.metrics import r2_score,mean_absolute_error,mean_squared_error,roc_auc_score,accuracy_score,f1_score,classification_report,recall_score,make_scorer\n",
        "import catboost"
      ],
      "metadata": {
        "id": "FnMn45-d8YJG"
      },
      "execution_count": null,
      "outputs": []
    },
    {
      "cell_type": "code",
      "source": [
        "train=pd.read_csv('/content/drive/MyDrive/NSK/train_dataset_train.csv')\n",
        "test=pd.read_csv('/content/drive/MyDrive/NSK/test_dataset_test.csv')"
      ],
      "metadata": {
        "id": "Q62YAI818hDl"
      },
      "execution_count": null,
      "outputs": []
    },
    {
      "cell_type": "code",
      "source": [
        "for cnt in range(2):\n",
        "  train['Easting_Northing_'+str(cnt)]=PCA(2,random_state=0).fit_transform(train[['Easting', 'Northing']])[:,cnt]\n",
        "train['Easting/Northing']=(MinMaxScaler(feature_range=(1, 100)).fit_transform(train[['Easting']])/\n",
        "                             MinMaxScaler(feature_range=(1, 100)).fit_transform(train[['Northing']]))\n",
        "train['Height/Reflectance']=(MinMaxScaler(feature_range=(1, 100)).fit_transform(train[['Height']])/\n",
        "                             MinMaxScaler(feature_range=(1, 100)).fit_transform(train[['Reflectance']]))\n",
        "train['Easting_Northing_0/Reflectance']=(MinMaxScaler(feature_range=(1, 100)).fit_transform(train[['Easting_Northing_0']])/\n",
        "                             MinMaxScaler(feature_range=(1, 100)).fit_transform(train[['Reflectance']]))\n",
        "train['Easting_Northing_1/Reflectance']=(MinMaxScaler(feature_range=(1, 100)).fit_transform(train[['Easting_Northing_1']])/\n",
        "                             MinMaxScaler(feature_range=(1, 100)).fit_transform(train[['Reflectance']]))\n",
        "train['Easting_Northing_0/Height']=(MinMaxScaler(feature_range=(1, 100)).fit_transform(train[['Easting_Northing_0']])/\n",
        "                             MinMaxScaler(feature_range=(1, 100)).fit_transform(train[['Height']]))\n",
        "train['Easting_Northing_1/Height']=(MinMaxScaler(feature_range=(1, 100)).fit_transform(train[['Easting_Northing_1']])/\n",
        "                             MinMaxScaler(feature_range=(1, 100)).fit_transform(train[['Height']]))\n",
        "train['Easting_Northing_0/Easting_Northing_1']=(MinMaxScaler(feature_range=(1, 100)).fit_transform(train[['Easting_Northing_0']])/\n",
        "                             MinMaxScaler(feature_range=(1, 100)).fit_transform(train[['Easting_Northing_1']]))\n",
        "train['Angle1']=np.arctan(train['Easting_Northing_0']/(60/np.tan(np.pi/6)))\n",
        "train['Angle2']=np.arctan(train['Easting_Northing_1']/(60/np.tan(np.pi/6)))\n",
        "train['Angle3']=np.arctan(np.sqrt(np.square(train['Easting_Northing_0'])+np.square(train['Easting_Northing_1']))/(60/np.tan(np.pi/6)))"
      ],
      "metadata": {
        "id": "9ZQuZQeU8g_S"
      },
      "execution_count": null,
      "outputs": []
    },
    {
      "cell_type": "code",
      "source": [
        "for cnt in range(2):\n",
        "  test['Easting_Northing_'+str(cnt)]=PCA(2,random_state=0).fit(train[['Easting', 'Northing']]).transform(test[['Easting', 'Northing']])[:,cnt]\n",
        "test['Easting/Northing']=(MinMaxScaler(feature_range=(1, 100)).fit(train[['Easting']]).transform(test[['Easting']])/\n",
        "                             MinMaxScaler(feature_range=(1, 100)).fit(train[['Northing']]).transform(test[['Northing']]))\n",
        "test['Height/Reflectance']=(MinMaxScaler(feature_range=(1, 100)).fit(train[['Height']]).transform(test[['Height']])/\n",
        "                             MinMaxScaler(feature_range=(1, 100)).fit(train[['Reflectance']]).transform(test[['Reflectance']]))\n",
        "test['Easting_Northing_0/Reflectance']=(MinMaxScaler(feature_range=(1, 100)).fit(train[['Easting_Northing_0']]).transform(test[['Easting_Northing_0']])/\n",
        "                             MinMaxScaler(feature_range=(1, 100)).fit(train[['Reflectance']]).transform(test[['Reflectance']]))\n",
        "test['Easting_Northing_1/Reflectance']=(MinMaxScaler(feature_range=(1, 100)).fit(train[['Easting_Northing_1']]).transform(test[['Easting_Northing_1']])/\n",
        "                             MinMaxScaler(feature_range=(1, 100)).fit(train[['Reflectance']]).transform(test[['Reflectance']]))\n",
        "test['Easting_Northing_0/Height']=(MinMaxScaler(feature_range=(1, 100)).fit(train[['Easting_Northing_0']]).transform(test[['Easting_Northing_0']])/\n",
        "                             MinMaxScaler(feature_range=(1, 100)).fit(train[['Height']]).transform(test[['Height']]))\n",
        "test['Easting_Northing_1/Height']=(MinMaxScaler(feature_range=(1, 100)).fit(train[['Easting_Northing_1']]).transform(test[['Easting_Northing_1']])/\n",
        "                             MinMaxScaler(feature_range=(1, 100)).fit(train[['Height']]).transform(test[['Height']]))\n",
        "test['Easting_Northing_0/Easting_Northing_1']=(MinMaxScaler(feature_range=(1, 100)).fit(train[['Easting_Northing_0']]).transform(test[['Easting_Northing_0']])/\n",
        "                             MinMaxScaler(feature_range=(1, 100)).fit(train[['Easting_Northing_1']]).transform(test[['Easting_Northing_1']]))  \n",
        "test['Angle1']=np.arctan(test['Easting_Northing_0']/(60/np.tan(np.pi/6)))\n",
        "test['Angle2']=np.arctan(test['Easting_Northing_1']/(60/np.tan(np.pi/6)))\n",
        "test['Angle3']=np.arctan(np.sqrt(np.square(test['Easting_Northing_0'])+np.square(test['Easting_Northing_1']))/(60/np.tan(np.pi/6)))"
      ],
      "metadata": {
        "id": "W2kpV-fH8g7v"
      },
      "execution_count": null,
      "outputs": []
    },
    {
      "cell_type": "code",
      "source": [
        "X_train,X_val,y_train,y_val=train_test_split(train[['Easting_Northing_0', 'Easting_Northing_1', 'Height', 'Reflectance',\n",
        "       'Height/Reflectance', 'Easting_Northing_0/Reflectance','Easting_Northing_1/Reflectance', \n",
        "       'Easting_Northing_0/Height','Easting_Northing_1/Height', 'Easting_Northing_0/Easting_Northing_1',\n",
        "       'Angle1','Angle2','Angle3']],\n",
        "                                             train['Class'],test_size=0.02,random_state=0,\n",
        "                                             stratify=train['Class'])"
      ],
      "metadata": {
        "id": "4zfS9CKH8g4H"
      },
      "execution_count": null,
      "outputs": []
    },
    {
      "cell_type": "code",
      "source": [
        "cls=catboost.CatBoostClassifier(iterations=2500, \n",
        "                                learning_rate=0.1,\n",
        "                                loss_function='MultiClassOneVsAll',\n",
        "                                use_best_model=True, \n",
        "                                auto_class_weights='Balanced', \n",
        "                                eval_metric='TotalF1:average=Macro')"
      ],
      "metadata": {
        "id": "nCq2GBOM8YCu"
      },
      "execution_count": null,
      "outputs": []
    },
    {
      "cell_type": "code",
      "source": [
        "cls.fit(X_train,y_train,eval_set=(X_val,y_val),verbose=10)"
      ],
      "metadata": {
        "id": "MptGrUsv9O_S"
      },
      "execution_count": null,
      "outputs": []
    },
    {
      "cell_type": "code",
      "source": [
        "test['Class']=cls.predict(test[['Easting_Northing_0', 'Easting_Northing_1', 'Height', 'Reflectance',\n",
        "       'Height/Reflectance', 'Easting_Northing_0/Reflectance','Easting_Northing_1/Reflectance', \n",
        "       'Easting_Northing_0/Height','Easting_Northing_1/Height', 'Easting_Northing_0/Easting_Northing_1',\n",
        "       'Angle1','Angle2','Angle3']]).flatten()"
      ],
      "metadata": {
        "id": "YIVHtiD89O7R"
      },
      "execution_count": null,
      "outputs": []
    },
    {
      "cell_type": "code",
      "source": [
        "submit=test[['id','Class']]\n",
        "submit.to_csv('submit.csv',index=False)"
      ],
      "metadata": {
        "id": "rW5GQIan9O3i"
      },
      "execution_count": null,
      "outputs": []
    }
  ]
}